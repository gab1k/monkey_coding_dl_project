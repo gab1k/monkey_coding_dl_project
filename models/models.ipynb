{
 "cells": [
  {
   "cell_type": "markdown",
   "id": "9bfb61e1",
   "metadata": {},
   "source": [
    "# Сравниваем модели и сохраняем в `./pretrained`"
   ]
  },
  {
   "cell_type": "markdown",
   "id": "8f442152",
   "metadata": {},
   "source": []
  }
 ],
 "metadata": {
  "language_info": {
   "name": "python"
  }
 },
 "nbformat": 4,
 "nbformat_minor": 5
}
