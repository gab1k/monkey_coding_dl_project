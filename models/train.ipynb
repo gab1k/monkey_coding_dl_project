{
 "cells": [
  {
   "cell_type": "markdown",
   "metadata": {},
   "source": [
    "Добавляем в sys.path корнь проекта, чтобы нашлись все импорты (а можно было бы просто из корня нотбук запускать)"
   ]
  },
  {
   "cell_type": "code",
   "execution_count": 1,
   "metadata": {},
   "outputs": [],
   "source": [
    "import sys\n",
    "import os\n",
    "\n",
    "project_root = os.path.abspath('..')\n",
    "\n",
    "if project_root not in sys.path:\n",
    "    sys.path.append(project_root)"
   ]
  },
  {
   "cell_type": "code",
   "execution_count": 2,
   "metadata": {},
   "outputs": [
    {
     "name": "stderr",
     "output_type": "stream",
     "text": [
      "/Users/gab1k/Desktop/monkey_coding_dl_project/.venv/lib/python3.13/site-packages/tqdm/auto.py:21: TqdmWarning: IProgress not found. Please update jupyter and ipywidgets. See https://ipywidgets.readthedocs.io/en/stable/user_install.html\n",
      "  from .autonotebook import tqdm as notebook_tqdm\n"
     ]
    }
   ],
   "source": [
    "import warnings\n",
    "for warn in [UserWarning, FutureWarning]: warnings.filterwarnings(\"ignore\", category = warn)\n",
    "\n",
    "import os\n",
    "import time\n",
    "import json\n",
    "import torch\n",
    "import torch.nn as nn\n",
    "import torch.optim as optim\n",
    "import numpy as np\n",
    "import pandas as pd\n",
    "from sklearn.model_selection import train_test_split\n",
    "from datasets import load_dataset\n",
    "import nltk\n",
    "from nltk.tokenize import word_tokenize\n",
    "from collections import Counter\n",
    "from torch.utils.data import DataLoader, TensorDataset\n",
    "\n",
    "# Импортируем классы моделей из нашего файла\n",
    "from models import TransformerClassifier, MambaClassifier, LSTMClassifier\n"
   ]
  },
  {
   "cell_type": "code",
   "execution_count": 3,
   "metadata": {},
   "outputs": [],
   "source": [
    "MODEL_TO_TRAIN = 'Transformer' \n",
    "\n",
    "# Гиперпараметры данных и модели\n",
    "MAX_SEQ_LEN = 300\n",
    "EMBEDDING_DIM = 128\n",
    "BATCH_SIZE = 32\n",
    "LEARNING_RATE = 1e-4\n",
    "NUM_EPOCHS = 5 # Увеличим для лучшего результата\n",
    "\n",
    "# Пути для сохранения артефактов\n",
    "SAVE_DIR = \"pretrained\"\n",
    "os.makedirs(SAVE_DIR, exist_ok=True)\n",
    "MODEL_SAVE_PATH = os.path.join(SAVE_DIR, \"best_model.pth\")\n",
    "VOCAB_SAVE_PATH = os.path.join(SAVE_DIR, \"vocab.json\")\n",
    "CONFIG_SAVE_PATH = os.path.join(SAVE_DIR, \"config.json\")\n",
    "DEVICE = torch.device(\"cuda\" if torch.cuda.is_available() else \"cpu\")\n"
   ]
  },
  {
   "cell_type": "code",
   "execution_count": 4,
   "metadata": {},
   "outputs": [],
   "source": [
    "from data.preprocessor import DatasetGenerator, DatasetConfig\n",
    "from data.datasets_params import DatasetName\n",
    "\n",
    "generator = DatasetGenerator(DatasetName.IMDB)\n",
    "(X_train, y_train), (X_val, y_val), (X_test, y_test) = generator.generate_dataset()\n",
    "X_train, y_train, X_val, y_val, X_test, y_test = X_train[:1000], y_train[:1000], X_val[:100], y_val[:100], X_test[:100], y_test[:100]"
   ]
  },
  {
   "cell_type": "code",
   "execution_count": 5,
   "metadata": {},
   "outputs": [],
   "source": [
    "def create_dataloader(X, y, batch_size):\n",
    "    dataset = TensorDataset(torch.tensor(X, dtype=torch.long), torch.tensor(y, dtype=torch.long))\n",
    "    return DataLoader(dataset, batch_size=batch_size, shuffle=True)\n",
    "train_loader = create_dataloader(X_train, y_train, BATCH_SIZE)\n",
    "val_loader = create_dataloader(X_val, y_val, BATCH_SIZE)"
   ]
  },
  {
   "cell_type": "code",
   "execution_count": 6,
   "metadata": {},
   "outputs": [],
   "source": [
    "model_params = {}\n",
    "if MODEL_TO_TRAIN == 'Transformer':\n",
    "    model_params = {'vocab_size': len(generator.vocab), 'embed_dim': EMBEDDING_DIM, 'num_heads': 4, 'num_layers': 2, 'num_classes': 2, 'max_seq_len': MAX_SEQ_LEN}\n",
    "    model = TransformerClassifier(**model_params)\n",
    "elif MODEL_TO_TRAIN == 'Mamba':\n",
    "    model_params = {'vocab_size': len(generator.vocab), 'embed_dim': EMBEDDING_DIM, 'mamba_d_state': 16, 'mamba_d_conv': 4, 'mamba_expand': 2, 'num_classes': 2}\n",
    "    model = MambaClassifier(**model_params)\n",
    "elif MODEL_TO_TRAIN == 'LSTM':\n",
    "    model_params = {'vocab_size': len(generator.vocab), 'embed_dim': EMBEDDING_DIM, 'hidden_dim': 256, 'num_layers': 2, 'num_classes': 2, 'dropout': 0.5}\n",
    "    model = LSTMClassifier(**model_params)\n",
    "else:\n",
    "    raise ValueError(\"Неизвестный тип модели. Выберите 'Transformer', 'Mamba' или 'LSTM'\")"
   ]
  },
  {
   "cell_type": "code",
   "execution_count": 7,
   "metadata": {},
   "outputs": [
    {
     "name": "stdout",
     "output_type": "stream",
     "text": [
      "--- Начало обучения модели: Transformer ---\n",
      "Эпоха 1/5 | Время: 8.49с | Train Loss: 0.6953 | Val Loss: 0.6727 | Val Acc: 0.5900\n",
      "  -> Модель сохранена, новая лучшая Val Loss: 0.6727\n",
      "Эпоха 2/5 | Время: 8.39с | Train Loss: 0.6722 | Val Loss: 0.6586 | Val Acc: 0.6000\n",
      "  -> Модель сохранена, новая лучшая Val Loss: 0.6586\n",
      "Эпоха 3/5 | Время: 8.60с | Train Loss: 0.6516 | Val Loss: 0.6720 | Val Acc: 0.6800\n",
      "Эпоха 4/5 | Время: 8.59с | Train Loss: 0.6329 | Val Loss: 0.6965 | Val Acc: 0.5100\n",
      "Эпоха 5/5 | Время: 8.62с | Train Loss: 0.6088 | Val Loss: 0.6719 | Val Acc: 0.7000\n"
     ]
    }
   ],
   "source": [
    "model.to(DEVICE)\n",
    "optimizer = optim.Adam(model.parameters(), lr=LEARNING_RATE)\n",
    "criterion = nn.CrossEntropyLoss()\n",
    "\n",
    "best_val_loss = float('inf')\n",
    "print(f\"--- Начало обучения модели: {MODEL_TO_TRAIN} ---\")\n",
    "for epoch in range(NUM_EPOCHS):\n",
    "    model.train()\n",
    "    start_time = time.time()\n",
    "    total_train_loss = 0\n",
    "\n",
    "    for batch_X, batch_y in train_loader:\n",
    "        batch_X, batch_y = batch_X.to(DEVICE), batch_y.to(DEVICE)\n",
    "        optimizer.zero_grad()\n",
    "        outputs = model(batch_X)\n",
    "        loss = criterion(outputs, batch_y)\n",
    "        loss.backward()\n",
    "        optimizer.step()\n",
    "        total_train_loss += loss.item()\n",
    "    avg_train_loss = total_train_loss / len(train_loader)\n",
    "    \n",
    "    model.eval()\n",
    "    total_val_loss, correct_val, total_val = 0, 0, 0\n",
    "    with torch.no_grad():\n",
    "        for batch_X, batch_y in val_loader:\n",
    "            batch_X, batch_y = batch_X.to(DEVICE), batch_y.to(DEVICE)\n",
    "            outputs = model(batch_X)\n",
    "            loss = criterion(outputs, batch_y)\n",
    "            total_val_loss += loss.item()\n",
    "            _, predicted = torch.max(outputs.data, 1)\n",
    "            total_val += batch_y.size(0)\n",
    "            correct_val += (predicted == batch_y).sum().item()\n",
    "    avg_val_loss = total_val_loss / len(val_loader)\n",
    "    val_accuracy = correct_val / total_val\n",
    "\n",
    "    epoch_time = time.time() - start_time\n",
    "    print(f\"Эпоха {epoch+1}/{NUM_EPOCHS} | Время: {epoch_time:.2f}с | Train Loss: {avg_train_loss:.4f} | Val Loss: {avg_val_loss:.4f} | Val Acc: {val_accuracy:.4f}\")\n",
    "    \n",
    "    if avg_val_loss < best_val_loss:\n",
    "        best_val_loss = avg_val_loss\n",
    "        torch.save(model.state_dict(), MODEL_SAVE_PATH)\n",
    "        print(f\"  -> Модель сохранена, новая лучшая Val Loss: {best_val_loss:.4f}\")"
   ]
  },
  {
   "cell_type": "code",
   "execution_count": 9,
   "metadata": {},
   "outputs": [
    {
     "name": "stdout",
     "output_type": "stream",
     "text": [
      "Конфигурация модели сохранена в: pretrained/config.json\n"
     ]
    }
   ],
   "source": [
    "with open(VOCAB_SAVE_PATH, 'w', encoding='utf-8') as f:\n",
    "    json.dump(generator.vocab, f, ensure_ascii=False, indent=4)\n",
    "\n",
    "config = {\n",
    "    \"model_type\": MODEL_TO_TRAIN,\n",
    "    \"max_seq_len\": MAX_SEQ_LEN,\n",
    "    \"model_params\": model_params,\n",
    "}\n",
    "with open(CONFIG_SAVE_PATH, 'w', encoding='utf-8') as f:\n",
    "    json.dump(config, f, ensure_ascii=False, indent=4)\n",
    "print(f\"Конфигурация модели сохранена в: {CONFIG_SAVE_PATH}\")\n"
   ]
  }
 ],
 "metadata": {
  "kernelspec": {
   "display_name": ".venv",
   "language": "python",
   "name": "python3"
  },
  "language_info": {
   "codemirror_mode": {
    "name": "ipython",
    "version": 3
   },
   "file_extension": ".py",
   "mimetype": "text/x-python",
   "name": "python",
   "nbconvert_exporter": "python",
   "pygments_lexer": "ipython3",
   "version": "3.13.3"
  }
 },
 "nbformat": 4,
 "nbformat_minor": 2
}
